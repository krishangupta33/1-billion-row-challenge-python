{
 "cells": [
  {
   "cell_type": "markdown",
   "metadata": {},
   "source": [
    "## One Billion Row Challenge\n",
    "\n",
    "💪 The challenge\n",
    "\n",
    "Your mission, should you choose to accept it, is to write a program that retrieves temperature measurement values from a text file and calculates the min, mean, and max temperature per weather station. There's just one caveat: the file has 1,000,000,000 rows! That's more than 10 GB of data! 😱\n",
    "\n"
   ]
  },
  {
   "cell_type": "markdown",
   "metadata": {},
   "source": [
    "## 1-  Pure Python\n",
    "Time elapsed: 594.89 seconds ~ 10 minutes\n",
    "\n"
   ]
  },
  {
   "cell_type": "code",
   "execution_count": 33,
   "metadata": {},
   "outputs": [
    {
     "name": "stderr",
     "output_type": "stream",
     "text": [
      "Processing data: 1000000001it [09:54, 1680983.16it/s]"
     ]
    },
    {
     "name": "stdout",
     "output_type": "stream",
     "text": [
      "Helsinki {'min': -46.8, 'max': 55.3, 'mean': 5.90051665154234}\n",
      "Guatemala City, {'min': -32.3, 'max': 69.5, 'mean': 20.39640808762602} \n",
      "\n",
      "Time elapsed: 594.89 seconds\n"
     ]
    },
    {
     "name": "stderr",
     "output_type": "stream",
     "text": [
      "\n"
     ]
    }
   ],
   "source": [
    "import time\n",
    "from tqdm import tqdm\n",
    "\n",
    "def read_and_calculate_stats(file_name):\n",
    "    city_stats = {}\n",
    "    with open(file_name, 'r') as file:\n",
    "        for line in tqdm(file, desc=\"Processing data\"):\n",
    "            line = line.strip()  # Strip whitespace\n",
    "            if not line or ';' not in line:  # Skip empty lines or lines without ;\n",
    "                continue\n",
    "            city, temp = line.split(';', maxsplit=1)  # Split only at first ;\n",
    "            try:\n",
    "                temp = float(temp)\n",
    "            except ValueError:  # Handle invalid temperature values\n",
    "                print(f\"Warning: Invalid temperature value '{temp}' for city '{city}'\")\n",
    "                continue  \n",
    "\n",
    "            if city in city_stats:\n",
    "                stats = city_stats[city]\n",
    "                stats['count'] += 1\n",
    "                stats['total'] += temp\n",
    "                if temp < stats['min']:\n",
    "                    stats['min'] = temp\n",
    "                if temp > stats['max']:\n",
    "                    stats['max'] = temp\n",
    "            else:\n",
    "                city_stats[city] = {\n",
    "                    'min': temp,\n",
    "                    'max': temp,\n",
    "                    'total': temp,\n",
    "                    'count': 1\n",
    "                }\n",
    "\n",
    "    # Calculate mean from total and count\n",
    "    for city, stats in city_stats.items():\n",
    "        stats['mean'] = stats['total'] / stats['count']\n",
    "        del stats['total'], stats['count']  # Optional: Remove these if no longer needed\n",
    "\n",
    "    return city_stats\n",
    "\n",
    "# Main execution\n",
    "start_time = time.time()\n",
    "city_stats = read_and_calculate_stats('data/measurements.txt')\n",
    "end_time = time.time()\n",
    "\n",
    "print('Helsinki',city_stats['Helsinki'])\n",
    "print('Guatemala City,',city_stats['Guatemala City'],'\\n')\n",
    "\n",
    "print(f\"Time elapsed: {end_time - start_time:.2f} seconds\")\n"
   ]
  },
  {
   "cell_type": "markdown",
   "metadata": {},
   "source": [
    "## 2- Pandas\n",
    "Elapsed Time: 155.37 seconds"
   ]
  },
  {
   "cell_type": "code",
   "execution_count": 8,
   "metadata": {},
   "outputs": [
    {
     "name": "stderr",
     "output_type": "stream",
     "text": [
      "Processing chunks: 1001it [02:35,  6.44it/s]"
     ]
    },
    {
     "name": "stdout",
     "output_type": "stream",
     "text": [
      "Elapsed Time: 155.37 seconds\n",
      "                          temperature_min  temperature_max  temperature_mean\n",
      "city                                                                        \n",
      "Abha                                -34.0             68.6         17.998179\n",
      "Abidjan                             -26.2             76.6         25.999310\n",
      "Abéché                              -21.0             81.0         29.409223\n",
      "Accra                               -23.4             77.6         26.406375\n",
      "Addis Ababa                         -34.8             66.2         16.010328\n",
      "...                                   ...              ...               ...\n",
      "Zanzibar City                       -25.3             78.3         26.003238\n",
      "Zürich                              -42.4             59.6          9.296035\n",
      "station_name,measurement              NaN              NaN               NaN\n",
      "Ürümqi                              -49.9             54.5          7.398977\n",
      "İzmir                               -30.4             66.3         17.894226\n",
      "\n",
      "[414 rows x 3 columns]\n"
     ]
    },
    {
     "name": "stderr",
     "output_type": "stream",
     "text": [
      "\n"
     ]
    }
   ],
   "source": [
    "import pandas as pd\n",
    "import time\n",
    "from tqdm import tqdm\n",
    "\n",
    "def process_data(file_path, chunk_size=1000000):\n",
    "    start_time = time.time()  # Start timing\n",
    "\n",
    "    # Initialize an empty DataFrame to accumulate results\n",
    "    accumulated_results = pd.DataFrame()\n",
    "\n",
    "    # Initialize reader object\n",
    "    reader = pd.read_csv(file_path, sep=';', header=None, names=['city', 'temp'], chunksize=chunk_size)\n",
    "\n",
    "    # Process each chunk\n",
    "    for chunk in tqdm(reader, desc=\"Processing chunks\"):\n",
    "        # Group by 'city' and calculate min, max, and mean for the chunk\n",
    "        results = chunk.groupby('city')['temp'].agg(['min', 'max', 'mean']).rename(columns={\n",
    "            'min': 'temperature_min',\n",
    "            'max': 'temperature_max',\n",
    "            'mean': 'temperature_mean'\n",
    "        })\n",
    "        # Append chunk results to the accumulated results\n",
    "        accumulated_results = pd.concat([accumulated_results, results])\n",
    "\n",
    "    # Final aggregation to ensure city stats are correct across all chunks\n",
    "    final_results = accumulated_results.groupby(accumulated_results.index).agg({\n",
    "        'temperature_min': 'min',\n",
    "        'temperature_max': 'max',\n",
    "        'temperature_mean': 'mean'\n",
    "    })\n",
    "\n",
    "    end_time = time.time()  # End timing\n",
    "    elapsed_time = end_time - start_time  # Calculate elapsed time\n",
    "\n",
    "    print(f\"Elapsed Time: {elapsed_time:.2f} seconds\")  # Print the elapsed time\n",
    "    return final_results\n",
    "\n",
    "# Specify your file path\n",
    "file_path = 'data/measurements.txt'\n",
    "city_stats = process_data(file_path)\n",
    "print(city_stats)\n"
   ]
  },
  {
   "cell_type": "markdown",
   "metadata": {},
   "source": [
    "## 3- Dask Implementation\n",
    "Elapsed Time (Dask): 57.12 seconds"
   ]
  },
  {
   "cell_type": "code",
   "execution_count": 22,
   "metadata": {},
   "outputs": [
    {
     "name": "stdout",
     "output_type": "stream",
     "text": [
      "Elapsed Time (Dask): 57.12 seconds\n",
      "                          temperature_min  temperature_max  temperature_mean\n",
      "city                                                                        \n",
      "Guatemala City                      -32.3             69.5         20.396408\n",
      "Willemstad                          -24.4             84.3         28.003222\n",
      "Djibouti                            -22.1             80.1         29.903738\n",
      "Ljubljana                           -37.1             59.0         10.900752\n",
      "Odienné                             -21.6             74.0         26.003137\n",
      "...                                   ...              ...               ...\n",
      "Philadelphia                        -36.3             61.7         13.204084\n",
      "Naha                                -25.9             74.9         23.092051\n",
      "Sydney                              -32.3             67.2         17.703246\n",
      "Auckland                            -36.7             67.7         15.202288\n",
      "station_name,measurement              NaN              NaN               NaN\n",
      "\n",
      "[414 rows x 3 columns]\n"
     ]
    }
   ],
   "source": [
    "import dask.dataframe as dd\n",
    "import time\n",
    "from tqdm import tqdm\n",
    "from dask.distributed import Client\n",
    "\n",
    "def process_data_dask(file_path, chunk_size=1000000):\n",
    "    start_time = time.time()\n",
    "\n",
    "    # Initialize a Dask client for parallel processing\n",
    "    client = Client()\n",
    "\n",
    "    # Load data with Dask, specifying chunk size for efficient partitioning\n",
    "    ddf = dd.read_csv(file_path, sep=';', header=None, names=['city', 'temp'], blocksize=chunk_size)\n",
    "\n",
    "    # Group by 'city' and calculate aggregations\n",
    "    # Note: Dask automatically parallelizes these operations\n",
    "    results = ddf.groupby('city')['temp'].agg(['min', 'max', 'mean']).rename(columns={\n",
    "        'min': 'temperature_min',\n",
    "        'max': 'temperature_max',\n",
    "        'mean': 'mean'\n",
    "    })\n",
    "\n",
    "    # Combine the results and compute the final DataFrame\n",
    "    final_results = results.compute()\n",
    "    # Rename the mean column to temperature_mean to be consistent with pandas implementation\n",
    "    final_results = final_results.rename(columns={'mean': 'temperature_mean'})\n",
    "\n",
    "    end_time = time.time()\n",
    "    elapsed_time = end_time - start_time\n",
    "\n",
    "    print(f\"Elapsed Time (Dask): {elapsed_time:.2f} seconds\")\n",
    "    \n",
    "    # Close the Dask Client to release resources\n",
    "    client.close()\n",
    "    \n",
    "    return final_results\n",
    "\n",
    "# Specify your file path\n",
    "file_path = 'data/measurements.txt'\n",
    "\n",
    "# Start a Dask cluster and process data\n",
    "city_stats_dask = process_data_dask(file_path)\n",
    "print(city_stats_dask)\n"
   ]
  },
  {
   "cell_type": "markdown",
   "metadata": {},
   "source": [
    "## 4- Polars\n",
    "Elapsed Time: 27.80 seconds"
   ]
  },
  {
   "cell_type": "code",
   "execution_count": 3,
   "metadata": {},
   "outputs": [
    {
     "name": "stdout",
     "output_type": "stream",
     "text": [
      "Elapsed Time: 27.80 seconds\n",
      "shape: (414, 4)\n",
      "┌───────────────┬─────────────────┬─────────────────┬──────────────────┐\n",
      "│ city          ┆ temperature_min ┆ temperature_max ┆ temperature_mean │\n",
      "│ ---           ┆ ---             ┆ ---             ┆ ---              │\n",
      "│ str           ┆ f64             ┆ f64             ┆ f64              │\n",
      "╞═══════════════╪═════════════════╪═════════════════╪══════════════════╡\n",
      "│ Perth         ┆ -32.9           ┆ 64.6            ┆ 18.696792        │\n",
      "│ Skopje        ┆ -35.2           ┆ 61.3            ┆ 12.395606        │\n",
      "│ Odesa         ┆ -38.5           ┆ 60.4            ┆ 10.701866        │\n",
      "│ Zanzibar City ┆ -25.3           ┆ 78.3            ┆ 26.003186        │\n",
      "│ Chicago       ┆ -41.2           ┆ 58.8            ┆ 9.791128         │\n",
      "│ …             ┆ …               ┆ …               ┆ …                │\n",
      "│ Minneapolis   ┆ -39.7           ┆ 56.9            ┆ 7.80093          │\n",
      "│ Ghanzi        ┆ -27.3           ┆ 71.6            ┆ 21.396405        │\n",
      "│ Chittagong    ┆ -25.7           ┆ 77.9            ┆ 25.912396        │\n",
      "│ Singapore     ┆ -22.8           ┆ 75.9            ┆ 27.01894         │\n",
      "│ Kabul         ┆ -38.2           ┆ 61.8            ┆ 12.099089        │\n",
      "└───────────────┴─────────────────┴─────────────────┴──────────────────┘\n"
     ]
    }
   ],
   "source": [
    "import polars as pl\n",
    "import time\n",
    "\n",
    "\n",
    "def process_data_polars_streaming(file_path):\n",
    "    start_time = time.time()\n",
    "\n",
    "    # Create a lazy scan of the CSV file\n",
    "    df = pl.scan_csv(file_path, separator=\";\", has_header=False, new_columns=[\"city\", \"temp\"])\n",
    "\n",
    "    # Define aggregations and group by 'city' with streaming enabled\n",
    "    results = (\n",
    "        df.lazy()\n",
    "        .group_by(\"city\")\n",
    "        .agg(\n",
    "            [\n",
    "                pl.col(\"temp\").min().alias(\"temperature_min\"),\n",
    "                pl.col(\"temp\").max().alias(\"temperature_max\"),\n",
    "                pl.col(\"temp\").mean().alias(\"temperature_mean\"),\n",
    "            ]\n",
    "        )\n",
    "        .collect(streaming=True)  # Enable streaming\n",
    "    )\n",
    "\n",
    "    end_time = time.time()\n",
    "    elapsed_time = end_time - start_time\n",
    "    print(f\"Elapsed Time: {elapsed_time:.2f} seconds\")\n",
    "    return results\n",
    "\n",
    "# Specify your file path\n",
    "file_path = \"data/measurements.txt\"\n",
    "city_stats = process_data_polars_streaming(file_path)\n",
    "print(city_stats)\n"
   ]
  },
  {
   "cell_type": "markdown",
   "metadata": {},
   "source": [
    "With streaming = True, Polars took 27 s to compute 1 billion rows.\n"
   ]
  },
  {
   "cell_type": "markdown",
   "metadata": {},
   "source": [
    "## 5- DuckDB Implementation\n",
    "Time elapsed: 7.18 seconds"
   ]
  },
  {
   "cell_type": "code",
   "execution_count": 39,
   "metadata": {},
   "outputs": [
    {
     "data": {
      "application/vnd.jupyter.widget-view+json": {
       "model_id": "a5cae5a24a9842308ed2bf0273f4d9a2",
       "version_major": 2,
       "version_minor": 0
      },
      "text/plain": [
       "FloatProgress(value=0.0, layout=Layout(width='auto'), style=ProgressStyle(bar_color='black'))"
      ]
     },
     "metadata": {},
     "output_type": "display_data"
    },
    {
     "name": "stdout",
     "output_type": "stream",
     "text": [
      "             city  min_temp  max_temp   avg_temp\n",
      "0      Phnom Penh     -20.1      77.7  28.308212\n",
      "1    Philadelphia     -36.3      61.7  13.204084\n",
      "2         Nairobi     -38.9      71.0  17.796587\n",
      "3     Kuwait City     -22.1      74.6  25.705697\n",
      "4           Praia     -24.6      71.9  24.408674\n",
      "..            ...       ...       ...        ...\n",
      "409        Austin     -27.6      70.7  20.702178\n",
      "410     Palembang     -20.3      72.5  27.284528\n",
      "411        Madrid     -35.4      62.2  15.005562\n",
      "412         Boise     -37.7      58.4  11.400594\n",
      "413     San Diego     -31.0      67.1  17.811158\n",
      "\n",
      "[414 rows x 4 columns]\n",
      "\n",
      "Time elapsed: 7.18 seconds\n"
     ]
    }
   ],
   "source": [
    "import duckdb\n",
    "import time\n",
    "\n",
    "con = duckdb.connect()\n",
    "\n",
    "# Start time tracking\n",
    "start_time = time.time()\n",
    "\n",
    "# Aggregate directly in DuckDB\n",
    "final_results = con.execute(\"\"\"\n",
    "    SELECT \n",
    "        city, \n",
    "        MIN(temp) AS min_temp, \n",
    "        MAX(temp) AS max_temp, \n",
    "        AVG(temp) AS avg_temp\n",
    "    FROM 'data/measurements.parquet'\n",
    "    GROUP BY city\n",
    "\"\"\").fetchdf()\n",
    "\n",
    "# End time tracking and calculate elapsed time\n",
    "end_time = time.time()\n",
    "elapsed_time = end_time - start_time\n",
    "\n",
    "# Print the results and elapsed time\n",
    "print(final_results)\n",
    "print(f\"\\nTime elapsed: {elapsed_time:.2f} seconds\")\n"
   ]
  },
  {
   "cell_type": "markdown",
   "metadata": {},
   "source": [
    "# Result Table\n",
    "| Implementation | Time Elapsed |\n",
    "| --- | --- |\n",
    "| Pure Python | 594.89 seconds |\n",
    "| Pandas | 155.37 seconds |\n",
    "| Dask | 57.12 seconds |\n",
    "| Polars | 27.80 seconds |\n",
    "| DuckDB | 7.18 seconds |\n"
   ]
  },
  {
   "cell_type": "code",
   "execution_count": 44,
   "metadata": {},
   "outputs": [
    {
     "data": {
      "image/png": "[encoded data removed]",
      "text/plain": [
       "<Figure size 1000x600 with 1 Axes>"
      ]
     },
     "metadata": {},
     "output_type": "display_data"
    }
   ],
   "source": [
    "#Plotting the results\n",
    "import matplotlib.pyplot as plt\n",
    "\n",
    "# Plotting the implementation comparison\n",
    "plt.figure(figsize=(10, 6))\n",
    "plt.bar(['Python', 'Pandas', 'Dask', 'Polars', 'DuckDB'], [594,155,57,27,7])\n",
    "plt.xlabel('Implementation')\n",
    "plt.ylabel('Time (seconds)')\n",
    "plt.title('Time Elapsed for Processing 1 Billion Rows')\n",
    "plt.show()\n"
   ]
  },
  {
   "cell_type": "code",
   "execution_count": null,
   "metadata": {},
   "outputs": [],
   "source": []
  }
 ],
 "metadata": {
  "kernelspec": {
   "display_name": "base",
   "language": "python",
   "name": "python3"
  },
  "language_info": {
   "codemirror_mode": {
    "name": "ipython",
    "version": 3
   },
   "file_extension": ".py",
   "mimetype": "text/x-python",
   "name": "python",
   "nbconvert_exporter": "python",
   "pygments_lexer": "ipython3",
   "version": "3.10.13"
  }
 },
 "nbformat": 4,
 "nbformat_minor": 2
}
